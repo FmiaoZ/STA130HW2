{
 "cells": [
  {
   "cell_type": "markdown",
   "id": "887a6f8e",
   "metadata": {},
   "source": [
    "# 3. Coding"
   ]
  },
  {
   "cell_type": "code",
   "execution_count": 2,
   "id": "c0a37078",
   "metadata": {},
   "outputs": [
    {
     "name": "stdout",
     "output_type": "stream",
     "text": [
      "Win rate when switching: 66.79%\n",
      "Win rate when not switching: 34.10%\n"
     ]
    }
   ],
   "source": [
    "import numpy as np\n",
    "\n",
    "def monty_hall_simulation(n_simulations, switch_choice):\n",
    "    \"\"\"\n",
    "    Simulates the Monty Hall problem.\n",
    "    \n",
    "    Parameters:\n",
    "    - n_simulations: number of times the game is played.\n",
    "    - switch_choice: boolean, whether the contestant switches the door after the host reveals a goat.\n",
    "    \n",
    "    Returns:\n",
    "    - win_rate: percentage of times the contestant wins the car.\n",
    "    \"\"\"\n",
    "    # Track wins\n",
    "    wins = 0\n",
    "    \n",
    "    for _ in range(n_simulations):\n",
    "        # Randomly place the car behind one of the three doors\n",
    "        car_position = np.random.randint(0, 3)\n",
    "        \n",
    "        # Contestant makes an initial random choice\n",
    "        initial_choice = np.random.randint(0, 3)\n",
    "        \n",
    "        # Host reveals a goat from one of the two remaining doors\n",
    "        remaining_choices = [i for i in range(3) if i != initial_choice and i != car_position]\n",
    "        host_reveals = np.random.choice(remaining_choices)\n",
    "        \n",
    "        # If contestant switches, they pick the door that hasn't been revealed by the host\n",
    "        if switch_choice:\n",
    "            new_choice = [i for i in range(3) if i != initial_choice and i != host_reveals][0]\n",
    "            if new_choice == car_position:\n",
    "                wins += 1\n",
    "        else:\n",
    "            # If the contestant doesn't switch, they stick with their initial choice\n",
    "            if initial_choice == car_position:\n",
    "                wins += 1\n",
    "                \n",
    "    # Calculate win rate\n",
    "    win_rate = (wins / n_simulations) * 100\n",
    "    return win_rate\n",
    "\n",
    "# Simulate both strategies over 10000 games\n",
    "n_simulations = 10000\n",
    "win_rate_switching = monty_hall_simulation(n_simulations, switch_choice=True)\n",
    "win_rate_not_switching = monty_hall_simulation(n_simulations, switch_choice=False)\n",
    "\n",
    "# Output results\n",
    "print(f\"Win rate when switching: {win_rate_switching:.2f}%\")\n",
    "print(f\"Win rate when not switching: {win_rate_not_switching:.2f}%\")\n"
   ]
  },
  {
   "cell_type": "markdown",
   "id": "816257bf",
   "metadata": {},
   "source": [
    "6. Report on your experience interacting with ChatBots to understand the Monte Hall problem and \"Markovian ChatBot\" code\n",
    "\n",
    "Discuss how quickly the ChatBot was able to be helpful for each of the above questions, and if so, how?\n",
    "\n",
    "## When I asked about the Monte Hall problem (I've accually known this problem from the Movie ***Twenty-One Point*** ) the ChatBot was able to provide a working Python code for the simulation very fast(\"Of course\"). The code came with an explanation before and after the accual code, making it easy to follow and understand the logic. The code the chatbot provided demonstrated how switching doors improves the odds of winning in a straightforward manner. \n",
    "\n",
    "Discuss whether or not interacting with ChatBot to try to figure things out was frustrating or unhelpful, and if so, how?\n",
    "\n",
    "## Most of the time it is fine. But some of the times facing difficult problems, I'm not sure whether the chatbot is providing the correct answer or just spitting out random words since the logic of chatbot is made to do so. The is some times nhelpful. Also facing complex codes or problems, the chatbot would not be able to process clearly.\n",
    "\n",
    "Based on your experiences to date (e.g., including using ChatBots to troubleshoot coding errors in the previous homework), provide an overall assessment evaluating the usefulness of ChatBots as tools to help you understand code\n",
    "\n",
    "## Strengths:  Speed: ChatBots provide instant responses, which is highly useful when seeking quick help.  Accuracy for Basic Concepts: For well-known problems like Monty Hall or simple algorithmic questions, ChatBots provide highly accurate and understandable solutions.  Code Generation: ChatBots is pretty good at generating basic functional codes.\n",
    "\n",
    "## Weaknesses:  Debugging Limitations: ChatBots are not always the best at helping resolve complex coding errors.  Abstract Concept Understanding: While good at explaining and providing working code, ChatBots can sometimes struggle with abstract codes.\n",
    "\n",
    "## Overall, it is a good tool for simple task understanding, however for complex tasks and abstract concept, chatbot is not a helpful tool for me.\n"
   ]
  },
  {
   "cell_type": "markdown",
   "id": "222567ca",
   "metadata": {},
   "source": [
    "7. Reflect on your experience interacting with ChatBot and describe how your perception of AI-driven assistance tools in the context of learning coding, statistics, and data science has been evolving (or not) since joining the course\n",
    "\n",
    "## I've coded before, so using a chatbot hasn't necessarily expanded my knowledge. However, as I mentioned earlier, chatbots are useful for handling straightforward tasks, such as writing a code description for the Monty Hall problem. From my perspective, AI tools can significantly save time for workers or students, allowing them to focus on more creative and complex jobs. One of the major challenges we face in society is the loss of information as it gets transferred(imagine if we could inherit Einstein's understanding of physics from birth; how different would the world be if everyone had access to such knowledge?) AI-driven tools have helped streamline the transfer of information, making communication more efficient. That, to me, is their greatest benefit so far."
   ]
  },
  {
   "cell_type": "markdown",
   "id": "8fa2a08e",
   "metadata": {},
   "source": [
    "8. ChatBots consume text data available on the web or platforms, and thus represents a new way to \"search consensensus\" that condenses and summarizes mainstream human thought\n",
    "\n",
    "Start a new ChatBot session and discuss the relevance of learning and adaptability, communication, coding, and statistics and data analysis as skills in the modern world, especially with respect to career opportunities (particularly in the context of the data science industry)\n",
    "\n",
    "\n",
    "See if ChatBot thinks you could be a statistician or data scientist without coding or doing data analysis, and then transition your ChatBot conversation into a career exploration discussion, using the ChatBot to identify the skills that might be the most valuable for a career that you're interested\n",
    "\n",
    "\n",
    "Ask for a summary of this ChatBot session and paste it into your homework notebook (including link(s) to chat log histories if you're using ChatBot)\n",
    "\n",
    "\n",
    "Paraphrase the assessments and conclusions of your conversation in the form of a reflection on your current thoughts regarding your potential future career(s) and how you can go about building the skills you need to pursue it\n",
    "\n",
    "\n",
    "Give your thoughts regarding the helpfulness or limitations of your conversation with a ChatBot, and describe the next steps you would take to pursue this conversation further if you felt the information the ChatBot provides was somewhat high level and general, and perhaps lacked the depth and detailed knowledge of a dedicated subject matter expert who had really take the time to understand the ins and outs of the industry and career path in question.\n"
   ]
  },
  {
   "cell_type": "markdown",
   "id": "9f56483b",
   "metadata": {},
   "source": [
    "## In our conversation, we discussed the value of statistical and data analysis skills in real life, highlighting their importance for decision-making, problem-solving, and innovation across various fields. You asked about opportunities for those with strong data analysis skills, and I explained how it opens doors to high-demand careers like data science, business intelligence, and market research, while also providing a competitive edge in fields such as finance, healthcare, and e-commerce.\n",
    "\n",
    "## You then inquired about the prospects of being a computer scientist, and I outlined the many opportunities it offers, including high demand, job security, high salaries, diverse career paths (software development, AI, data science, cybersecurity), global opportunities, entrepreneurship, and continuous learning. Computer science can be highly rewarding with broad applications in interdisciplinary fields, and it provides significant potential for innovation and problem-solving.\n",
    "\n",
    "Let me know if you'd like to dive deeper into any specific topic!\n",
    "https://chatgpt.com/share/66ec476c-ae84-8010-ac13-a1134494166b"
   ]
  },
  {
   "cell_type": "markdown",
   "id": "394f4c99",
   "metadata": {},
   "source": [
    "Here's a summary of the recent chat history:\n",
    "\n",
    "1. **Monty Hall Problem**: You requested Python code for simulating the Monty Hall problem, and I provided a verified, working solution along with an explanation of the logic behind it.\n",
    "\n",
    "2. **Evaluation of ChatBots**: You asked for a detailed report on the experience of interacting with ChatBots to understand the Monty Hall problem and Markovian ChatBot code. I discussed the speed, helpfulness, and occasional frustrations of using ChatBots for coding assistance. The overall assessment acknowledged the usefulness of ChatBots for quick code generation and explanations but noted limitations when it comes to debugging or understanding complex concepts.\n",
    "\n",
    "Is there anything else you'd like to add or discuss further?"
   ]
  },
  {
   "cell_type": "markdown",
   "id": "fb0e8a4d",
   "metadata": {},
   "source": [
    "9. yes"
   ]
  },
  {
   "cell_type": "markdown",
   "id": "c9002e56",
   "metadata": {},
   "source": [
    "https://chatgpt.com/share/66eb3fce-defc-8010-b018-fe97008b72ad"
   ]
  },
  {
   "cell_type": "code",
   "execution_count": null,
   "id": "f147baf1",
   "metadata": {},
   "outputs": [],
   "source": []
  }
 ],
 "metadata": {
  "kernelspec": {
   "display_name": "Python 3 (ipykernel)",
   "language": "python",
   "name": "python3"
  },
  "language_info": {
   "codemirror_mode": {
    "name": "ipython",
    "version": 3
   },
   "file_extension": ".py",
   "mimetype": "text/x-python",
   "name": "python",
   "nbconvert_exporter": "python",
   "pygments_lexer": "ipython3",
   "version": "3.11.6"
  }
 },
 "nbformat": 4,
 "nbformat_minor": 5
}
